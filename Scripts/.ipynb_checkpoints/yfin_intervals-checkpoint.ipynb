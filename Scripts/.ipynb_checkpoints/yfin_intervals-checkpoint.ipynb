{
 "cells": [
  {
   "cell_type": "code",
   "execution_count": 2,
   "id": "1163bb66-7745-4e4b-aea0-ed1a541607ce",
   "metadata": {
    "tags": []
   },
   "outputs": [],
   "source": [
    "import yfinance as yf\n",
    "import pandas as pd"
   ]
  },
  {
   "cell_type": "markdown",
   "id": "faa8a19a-520f-4164-bcec-30ab76eb974b",
   "metadata": {},
   "source": [
    "Interval: '1d'\n",
    "\n",
    "1m, 2m, 5m, 15m, 30m, 60m, 90m, 1h,\n",
    "1d, 5d, 1wk, 1mo, 3mo\n",
    "\n",
    "\n",
    "Period: '1mo'\n",
    "Limits on intraday data:\n",
    "• 1m = max 7 days within last 30 days\n",
    "• 30m = max 60 days\n",
    "• 60m, 1h = max 730 days\n",
    "• else up to 90m = max 60 days"
   ]
  },
  {
   "cell_type": "code",
   "execution_count": 3,
   "id": "251aeb4e-9bbd-49f9-9dad-9033618324e3",
   "metadata": {
    "tags": []
   },
   "outputs": [
    {
     "name": "stdout",
     "output_type": "stream",
     "text": [
      "[*********************100%%**********************]  1 of 1 completed"
     ]
    },
    {
     "name": "stderr",
     "output_type": "stream",
     "text": [
      "\n",
      "1 Failed download:\n",
      "['AAPL']: Exception('%ticker%: 15m data not available for startTime=1634961600 and endTime=1697860800. The requested range must be within the last 60 days.')\n"
     ]
    },
    {
     "name": "stdout",
     "output_type": "stream",
     "text": [
      "\n"
     ]
    },
    {
     "data": {
      "text/html": [
       "<div>\n",
       "<style scoped>\n",
       "    .dataframe tbody tr th:only-of-type {\n",
       "        vertical-align: middle;\n",
       "    }\n",
       "\n",
       "    .dataframe tbody tr th {\n",
       "        vertical-align: top;\n",
       "    }\n",
       "\n",
       "    .dataframe thead th {\n",
       "        text-align: right;\n",
       "    }\n",
       "</style>\n",
       "<table border=\"1\" class=\"dataframe\">\n",
       "  <thead>\n",
       "    <tr style=\"text-align: right;\">\n",
       "      <th></th>\n",
       "      <th>Open</th>\n",
       "      <th>High</th>\n",
       "      <th>Low</th>\n",
       "      <th>Close</th>\n",
       "      <th>Adj Close</th>\n",
       "      <th>Volume</th>\n",
       "    </tr>\n",
       "    <tr>\n",
       "      <th>Date</th>\n",
       "      <th></th>\n",
       "      <th></th>\n",
       "      <th></th>\n",
       "      <th></th>\n",
       "      <th></th>\n",
       "      <th></th>\n",
       "    </tr>\n",
       "  </thead>\n",
       "  <tbody>\n",
       "  </tbody>\n",
       "</table>\n",
       "</div>"
      ],
      "text/plain": [
       "Empty DataFrame\n",
       "Columns: [Open, High, Low, Close, Adj Close, Volume]\n",
       "Index: []"
      ]
     },
     "execution_count": 3,
     "metadata": {},
     "output_type": "execute_result"
    }
   ],
   "source": [
    "# Max 730 d\n",
    "hr = yf.download('AAPL', start=\"2021-10-23\", end = \"2023-10-21\", interval=\"30m\")\n",
    "hr"
   ]
  },
  {
   "cell_type": "code",
   "execution_count": 16,
   "id": "8e0f6c87-9bae-4de2-a801-72587c08a678",
   "metadata": {
    "tags": []
   },
   "outputs": [
    {
     "name": "stdout",
     "output_type": "stream",
     "text": [
      "[*********************100%%**********************]  1 of 1 completed\n"
     ]
    },
    {
     "data": {
      "text/html": [
       "<div>\n",
       "<style scoped>\n",
       "    .dataframe tbody tr th:only-of-type {\n",
       "        vertical-align: middle;\n",
       "    }\n",
       "\n",
       "    .dataframe tbody tr th {\n",
       "        vertical-align: top;\n",
       "    }\n",
       "\n",
       "    .dataframe thead th {\n",
       "        text-align: right;\n",
       "    }\n",
       "</style>\n",
       "<table border=\"1\" class=\"dataframe\">\n",
       "  <thead>\n",
       "    <tr style=\"text-align: right;\">\n",
       "      <th></th>\n",
       "      <th>Open</th>\n",
       "      <th>High</th>\n",
       "      <th>Low</th>\n",
       "      <th>Close</th>\n",
       "      <th>Adj Close</th>\n",
       "      <th>Volume</th>\n",
       "    </tr>\n",
       "    <tr>\n",
       "      <th>Datetime</th>\n",
       "      <th></th>\n",
       "      <th></th>\n",
       "      <th></th>\n",
       "      <th></th>\n",
       "      <th></th>\n",
       "      <th></th>\n",
       "    </tr>\n",
       "  </thead>\n",
       "  <tbody>\n",
       "    <tr>\n",
       "      <th>2023-10-16 09:30:00-04:00</th>\n",
       "      <td>176.750000</td>\n",
       "      <td>177.125000</td>\n",
       "      <td>176.509995</td>\n",
       "      <td>176.610001</td>\n",
       "      <td>176.610001</td>\n",
       "      <td>2972628</td>\n",
       "    </tr>\n",
       "    <tr>\n",
       "      <th>2023-10-16 09:31:00-04:00</th>\n",
       "      <td>176.551697</td>\n",
       "      <td>177.570007</td>\n",
       "      <td>176.550003</td>\n",
       "      <td>177.423706</td>\n",
       "      <td>177.423706</td>\n",
       "      <td>428362</td>\n",
       "    </tr>\n",
       "    <tr>\n",
       "      <th>2023-10-16 09:32:00-04:00</th>\n",
       "      <td>177.419998</td>\n",
       "      <td>177.740005</td>\n",
       "      <td>177.419998</td>\n",
       "      <td>177.520798</td>\n",
       "      <td>177.520798</td>\n",
       "      <td>352300</td>\n",
       "    </tr>\n",
       "    <tr>\n",
       "      <th>2023-10-16 09:33:00-04:00</th>\n",
       "      <td>177.535004</td>\n",
       "      <td>177.880005</td>\n",
       "      <td>177.520004</td>\n",
       "      <td>177.770004</td>\n",
       "      <td>177.770004</td>\n",
       "      <td>276321</td>\n",
       "    </tr>\n",
       "    <tr>\n",
       "      <th>2023-10-16 09:34:00-04:00</th>\n",
       "      <td>177.770004</td>\n",
       "      <td>178.179993</td>\n",
       "      <td>177.750000</td>\n",
       "      <td>178.129898</td>\n",
       "      <td>178.129898</td>\n",
       "      <td>377855</td>\n",
       "    </tr>\n",
       "    <tr>\n",
       "      <th>...</th>\n",
       "      <td>...</td>\n",
       "      <td>...</td>\n",
       "      <td>...</td>\n",
       "      <td>...</td>\n",
       "      <td>...</td>\n",
       "      <td>...</td>\n",
       "    </tr>\n",
       "    <tr>\n",
       "      <th>2023-10-20 15:55:00-04:00</th>\n",
       "      <td>172.865005</td>\n",
       "      <td>173.005005</td>\n",
       "      <td>172.809998</td>\n",
       "      <td>172.985001</td>\n",
       "      <td>172.985001</td>\n",
       "      <td>454553</td>\n",
       "    </tr>\n",
       "    <tr>\n",
       "      <th>2023-10-20 15:56:00-04:00</th>\n",
       "      <td>172.980103</td>\n",
       "      <td>173.009995</td>\n",
       "      <td>172.860001</td>\n",
       "      <td>172.910004</td>\n",
       "      <td>172.910004</td>\n",
       "      <td>365816</td>\n",
       "    </tr>\n",
       "    <tr>\n",
       "      <th>2023-10-20 15:57:00-04:00</th>\n",
       "      <td>172.910004</td>\n",
       "      <td>172.979996</td>\n",
       "      <td>172.899994</td>\n",
       "      <td>172.960007</td>\n",
       "      <td>172.960007</td>\n",
       "      <td>346419</td>\n",
       "    </tr>\n",
       "    <tr>\n",
       "      <th>2023-10-20 15:58:00-04:00</th>\n",
       "      <td>172.949997</td>\n",
       "      <td>173.020004</td>\n",
       "      <td>172.949997</td>\n",
       "      <td>172.990005</td>\n",
       "      <td>172.990005</td>\n",
       "      <td>525805</td>\n",
       "    </tr>\n",
       "    <tr>\n",
       "      <th>2023-10-20 15:59:00-04:00</th>\n",
       "      <td>172.985001</td>\n",
       "      <td>173.059998</td>\n",
       "      <td>172.809998</td>\n",
       "      <td>172.839996</td>\n",
       "      <td>172.839996</td>\n",
       "      <td>1166802</td>\n",
       "    </tr>\n",
       "  </tbody>\n",
       "</table>\n",
       "<p>1950 rows × 6 columns</p>\n",
       "</div>"
      ],
      "text/plain": [
       "                                 Open        High         Low       Close  \\\n",
       "Datetime                                                                    \n",
       "2023-10-16 09:30:00-04:00  176.750000  177.125000  176.509995  176.610001   \n",
       "2023-10-16 09:31:00-04:00  176.551697  177.570007  176.550003  177.423706   \n",
       "2023-10-16 09:32:00-04:00  177.419998  177.740005  177.419998  177.520798   \n",
       "2023-10-16 09:33:00-04:00  177.535004  177.880005  177.520004  177.770004   \n",
       "2023-10-16 09:34:00-04:00  177.770004  178.179993  177.750000  178.129898   \n",
       "...                               ...         ...         ...         ...   \n",
       "2023-10-20 15:55:00-04:00  172.865005  173.005005  172.809998  172.985001   \n",
       "2023-10-20 15:56:00-04:00  172.980103  173.009995  172.860001  172.910004   \n",
       "2023-10-20 15:57:00-04:00  172.910004  172.979996  172.899994  172.960007   \n",
       "2023-10-20 15:58:00-04:00  172.949997  173.020004  172.949997  172.990005   \n",
       "2023-10-20 15:59:00-04:00  172.985001  173.059998  172.809998  172.839996   \n",
       "\n",
       "                            Adj Close   Volume  \n",
       "Datetime                                        \n",
       "2023-10-16 09:30:00-04:00  176.610001  2972628  \n",
       "2023-10-16 09:31:00-04:00  177.423706   428362  \n",
       "2023-10-16 09:32:00-04:00  177.520798   352300  \n",
       "2023-10-16 09:33:00-04:00  177.770004   276321  \n",
       "2023-10-16 09:34:00-04:00  178.129898   377855  \n",
       "...                               ...      ...  \n",
       "2023-10-20 15:55:00-04:00  172.985001   454553  \n",
       "2023-10-20 15:56:00-04:00  172.910004   365816  \n",
       "2023-10-20 15:57:00-04:00  172.960007   346419  \n",
       "2023-10-20 15:58:00-04:00  172.990005   525805  \n",
       "2023-10-20 15:59:00-04:00  172.839996  1166802  \n",
       "\n",
       "[1950 rows x 6 columns]"
      ]
     },
     "execution_count": 16,
     "metadata": {},
     "output_type": "execute_result"
    }
   ],
   "source": [
    "# Max 7d within last 30d\n",
    "\n",
    "minute = yf.download('AAPL', start=\"2023-10-16\", end = \"2023-10-21\", interval=\"1m\")\n",
    "minute"
   ]
  },
  {
   "cell_type": "code",
   "execution_count": null,
   "id": "da361806-8eb1-4f9a-850c-777005086478",
   "metadata": {},
   "outputs": [],
   "source": []
  }
 ],
 "metadata": {
  "kernelspec": {
   "display_name": "Python 3 (ipykernel)",
   "language": "python",
   "name": "python3"
  },
  "language_info": {
   "codemirror_mode": {
    "name": "ipython",
    "version": 3
   },
   "file_extension": ".py",
   "mimetype": "text/x-python",
   "name": "python",
   "nbconvert_exporter": "python",
   "pygments_lexer": "ipython3",
   "version": "3.11.5"
  }
 },
 "nbformat": 4,
 "nbformat_minor": 5
}
