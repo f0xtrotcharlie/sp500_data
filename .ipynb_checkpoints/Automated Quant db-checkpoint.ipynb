{
 "cells": [
  {
   "cell_type": "markdown",
   "id": "3c8170bf-fd83-4da1-9a33-dc138945210b",
   "metadata": {},
   "source": [
    "https://pyquantnews.com/how-to-build-an-automated-quant-database/"
   ]
  },
  {
   "cell_type": "raw",
   "id": "78d5de8e-d693-4756-96f1-966203bd9782",
   "metadata": {},
   "source": [
    "Use SQLite to build a database\n",
    "Download stock data for free\n",
    "Store the data in a database\n",
    "Run it all automatically"
   ]
  },
  {
   "cell_type": "code",
   "execution_count": 23,
   "id": "9fcc39d1-dfa9-4776-8054-26ca069b1bd7",
   "metadata": {},
   "outputs": [
    {
     "data": {
      "text/html": [
       "<div>\n",
       "<style scoped>\n",
       "    .dataframe tbody tr th:only-of-type {\n",
       "        vertical-align: middle;\n",
       "    }\n",
       "\n",
       "    .dataframe tbody tr th {\n",
       "        vertical-align: top;\n",
       "    }\n",
       "\n",
       "    .dataframe thead th {\n",
       "        text-align: right;\n",
       "    }\n",
       "</style>\n",
       "<table border=\"1\" class=\"dataframe\">\n",
       "  <thead>\n",
       "    <tr style=\"text-align: right;\">\n",
       "      <th></th>\n",
       "      <th>date</th>\n",
       "      <th>open</th>\n",
       "      <th>High</th>\n",
       "      <th>low</th>\n",
       "      <th>close</th>\n",
       "      <th>adj_close</th>\n",
       "      <th>volume</th>\n",
       "      <th>symbol</th>\n",
       "    </tr>\n",
       "  </thead>\n",
       "  <tbody>\n",
       "    <tr>\n",
       "      <th>0</th>\n",
       "      <td>2023-10-03T00:00:00</td>\n",
       "      <td>425.059998</td>\n",
       "      <td>427.369995</td>\n",
       "      <td>420.179993</td>\n",
       "      <td>421.589996</td>\n",
       "      <td>421.589996</td>\n",
       "      <td>103760600</td>\n",
       "      <td>SPY</td>\n",
       "    </tr>\n",
       "    <tr>\n",
       "      <th>1</th>\n",
       "      <td>2023-10-06T00:00:00</td>\n",
       "      <td>421.970001</td>\n",
       "      <td>431.130005</td>\n",
       "      <td>420.600006</td>\n",
       "      <td>429.540009</td>\n",
       "      <td>429.540009</td>\n",
       "      <td>113202700</td>\n",
       "      <td>SPY</td>\n",
       "    </tr>\n",
       "  </tbody>\n",
       "</table>\n",
       "</div>"
      ],
      "text/plain": [
       "                  date        open        High         low       close  \\\n",
       "0  2023-10-03T00:00:00  425.059998  427.369995  420.179993  421.589996   \n",
       "1  2023-10-06T00:00:00  421.970001  431.130005  420.600006  429.540009   \n",
       "\n",
       "    adj_close     volume symbol  \n",
       "0  421.589996  103760600    SPY  \n",
       "1  429.540009  113202700    SPY  "
      ]
     },
     "execution_count": 23,
     "metadata": {},
     "output_type": "execute_result"
    }
   ],
   "source": [
    "import sqlite3\n",
    "import pandas as pd\n",
    "\n",
    "# connect to the database\n",
    "con = sqlite3.connect(r\"C:\\Users\\Jonat\\Documents\\MEGAsync\\MEGAsync\\Github\\PyQuant\\New folder\\market_data.db\")\n",
    "\n",
    "# simple select statement\n",
    "df_1 = pd.read_sql_query(\"SELECT * from stock_data where symbol='SPY'\", con)\n",
    "\n",
    "# where statement\n",
    "df_2 = pd.read_sql_query(\"SELECT * from stock_data where symbol='SPY' and volume > 90000000\", con)\n",
    "df_2"
   ]
  },
  {
   "cell_type": "code",
   "execution_count": null,
   "id": "5aa4ba49-7639-424a-8b2a-23ff3407eb28",
   "metadata": {},
   "outputs": [],
   "source": []
  }
 ],
 "metadata": {
  "kernelspec": {
   "display_name": "Python 3 (ipykernel)",
   "language": "python",
   "name": "python3"
  },
  "language_info": {
   "codemirror_mode": {
    "name": "ipython",
    "version": 3
   },
   "file_extension": ".py",
   "mimetype": "text/x-python",
   "name": "python",
   "nbconvert_exporter": "python",
   "pygments_lexer": "ipython3",
   "version": "3.10.9"
  }
 },
 "nbformat": 4,
 "nbformat_minor": 5
}
